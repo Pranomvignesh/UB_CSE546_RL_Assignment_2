{
  "cells": [
    {
      "cell_type": "markdown",
      "id": "9c0d943c",
      "metadata": {
        "id": "9c0d943c"
      },
      "source": [
        "## <center>CSE 546: Reinforcement Learning</center>\n",
        "### <center>Prof. Alina Vereshchaka</center>\n",
        "<!-- ### <center>Fall 2022</center> -->\n",
        "\n",
        "Welcome to the Assignment 2, Part 1: Introduction to Deep Reinforcement Learning and Neural Networks! The goal of this assignment is to make you comfortable with the application of different Neural Network structures depending on how the Reinforcement Learning environment is set up."
      ]
    },
    {
      "cell_type": "code",
      "source": [
        "!unzip images.zip"
      ],
      "metadata": {
        "colab": {
          "base_uri": "https://localhost:8080/"
        },
        "id": "1ZZ4SALzUiuq",
        "outputId": "f73a4d1d-5fe3-4835-da56-daf0ce133288"
      },
      "id": "1ZZ4SALzUiuq",
      "execution_count": null,
      "outputs": [
        {
          "output_type": "stream",
          "name": "stdout",
          "text": [
            "Archive:  images.zip\n",
            "   creating: images/\n",
            "  inflating: __MACOSX/._images       \n",
            "  inflating: images/wumpus_dead.png  \n",
            "  inflating: __MACOSX/images/._wumpus_dead.png  \n",
            "  inflating: images/agent_alive_wumpus_dead.png  \n",
            "  inflating: __MACOSX/images/._agent_alive_wumpus_dead.png  \n",
            "  inflating: images/agent_dead_wumpus_alive.png  \n",
            "  inflating: __MACOSX/images/._agent_dead_wumpus_alive.png  \n",
            "  inflating: images/agent.png        \n",
            "  inflating: __MACOSX/images/._agent.png  \n",
            "  inflating: images/breeze_gold.png  \n",
            "  inflating: __MACOSX/images/._breeze_gold.png  \n",
            "  inflating: images/wumpus.png       \n",
            "  inflating: __MACOSX/images/._wumpus.png  \n",
            "  inflating: images/agent_dead_pit.png  \n",
            "  inflating: __MACOSX/images/._agent_dead_pit.png  \n",
            "  inflating: images/breeze_gold_stench.png  \n",
            "  inflating: __MACOSX/images/._breeze_gold_stench.png  \n",
            "  inflating: images/environment_render.png  \n",
            "  inflating: __MACOSX/images/._environment_render.png  \n",
            "   creating: images/neural_network_structures/\n",
            "  inflating: __MACOSX/images/._neural_network_structures  \n",
            "  inflating: images/breeze.png       \n",
            "  inflating: __MACOSX/images/._breeze.png  \n",
            "  inflating: images/stench.png       \n",
            "  inflating: __MACOSX/images/._stench.png  \n",
            "  inflating: images/agent_breeze.png  \n",
            "  inflating: __MACOSX/images/._agent_breeze.png  \n",
            "  inflating: images/pit.png          \n",
            "  inflating: __MACOSX/images/._pit.png  \n",
            "  inflating: images/wumpus_world_environment.jpg  \n",
            "  inflating: __MACOSX/images/._wumpus_world_environment.jpg  \n",
            "  inflating: images/stench_gold.png  \n",
            "  inflating: __MACOSX/images/._stench_gold.png  \n",
            "  inflating: images/agent_stench.png  \n",
            "  inflating: __MACOSX/images/._agent_stench.png  \n",
            "  inflating: images/breeze_stench.png  \n",
            "  inflating: __MACOSX/images/._breeze_stench.png  \n",
            "  inflating: images/agent_breeze_stench.png  \n",
            "  inflating: __MACOSX/images/._agent_breeze_stench.png  \n",
            "  inflating: images/gold.png         \n",
            "  inflating: __MACOSX/images/._gold.png  \n",
            "  inflating: images/neural_network_structures/neural_network_36_64_4.png  \n",
            "  inflating: __MACOSX/images/neural_network_structures/._neural_network_36_64_4.png  \n",
            "  inflating: images/neural_network_structures/neural_network_2_64_4.png  \n",
            "  inflating: __MACOSX/images/neural_network_structures/._neural_network_2_64_4.png  \n",
            "  inflating: images/neural_network_structures/neural_network_36_64_1.png  \n",
            "  inflating: __MACOSX/images/neural_network_structures/._neural_network_36_64_1.png  \n",
            "  inflating: images/neural_network_structures/neural_network_1_64_4.png  \n",
            "  inflating: __MACOSX/images/neural_network_structures/._neural_network_1_64_4.png  \n",
            "  inflating: images/neural_network_structures/convolutional_neural_network_84x84_128_64_4.png  \n",
            "  inflating: __MACOSX/images/neural_network_structures/._convolutional_neural_network_84x84_128_64_4.png  \n",
            "  inflating: images/neural_network_structures/neural_network_36_64_4_sigmoid.png  \n",
            "  inflating: __MACOSX/images/neural_network_structures/._neural_network_36_64_4_sigmoid.png  \n"
          ]
        }
      ]
    },
    {
      "cell_type": "code",
      "execution_count": 4,
      "id": "c0fc19e1",
      "metadata": {
        "id": "c0fc19e1"
      },
      "outputs": [],
      "source": [
        "# Imports\n",
        "from environment import WumpusWorldEnvironment"
      ]
    },
    {
      "cell_type": "markdown",
      "id": "87890afd",
      "metadata": {
        "id": "87890afd"
      },
      "source": [
        "# Environment"
      ]
    },
    {
      "cell_type": "markdown",
      "id": "b9dc8362",
      "metadata": {
        "id": "b9dc8362"
      },
      "source": [
        "We will be working with an implementation of the Wumpus World environment. The environment comes from the book \"Artificial Intelligence: A Modern Approach\" by Stuart J. Russell and Peter Norvig. \n",
        "\n",
        "### ENVIRONMENT DETAILS:\n",
        "\n",
        "The environment is a 6 x 6 grid world containing a total of 36 grid blocks. \n",
        "\n",
        "#### ENVIRONMENT OBJECTS:\n",
        "The environment consists of the following objects:\n",
        "\n",
        "1. **Agent** - The agent starts in the grid block at the bottom left corner whose co-ordinates are [0, 0]. The goal of our agent is to collect the Gold while avoiding the Wumpus and the pits. \n",
        "\n",
        "2. **Wumpus** - The monster which would eat the agent if they are in the same grid block.\n",
        "\n",
        "3. **Pit** - The agent must avoid falling into the pits. \n",
        "\n",
        "4. **Gold** - The agent must collect the Gold.\n",
        "\n",
        "5. **Breeze** - Breeze surrounds the Pits and warn the agent of a Pit in an adjacent grid block.\n",
        "\n",
        "6. **Stench** - Stench surrounds the Wumpus and warns the agent of the Wumpus in an adjacent grid block.\n",
        "\n",
        "#### ENVIRONMENT OBSERVATIONS:\n",
        "\n",
        "Our implementation of the environment provides you with four different types of observations:\n",
        "\n",
        "1. **Integer** - Integer in the range [0 - 35]. This represents the grid block the agent is in. E.g., if the agent is in the bottom left grid block (starting position) the observation would be 0, if the agent is in the grid block containing the Gold the observation would be 34, if the agent is in the top right grid block the observation would be 35.\n",
        "\n",
        "2. **Vector** - \n",
        "\n",
        "    **2.1.** A vector of length 2 representing the agent co-ordinates. The first entry represents the x co-ordinate and the second entry represets the y co-ordinate. E.g., if the agent is in the bottom left grid block (starting position) the observation would be [0, 0], if the agent is in the grid block containing the Gold the observation would be [4, 5], if the agent is in the top right grid block the observation would be [5, 5].\n",
        "    \n",
        "    **2.2.** A vector of length 36 representing the one-hot encoding of the integer observation (refer type 1 above). E.g., if the agent is in the bottom left grid block (starting position) the observation would be [1, 0, ..., 0, 0], if the agent is in the grid block containing the Gold the observation would be [0, 0, ..., 1, 0], if the agent is in the top right grid block the observation would be [0, 0, ..., 0, 1].\n",
        "\n",
        "\n",
        "3. **Image** - Image render of the environment returned as an NumPy array. The image size is 84 * 84 (same size used in the DQN paper). E.g., if the agent is in the bottom right grid block the observation is:\n",
        "\n",
        "    Observation: (84 * 84)\n",
        "\n",
        "     [[255 255 255 ... 255 255 255]\n",
        "\n",
        "     [255 255 255 ... 255 255 255]\n",
        "\n",
        "     [255 255 255 ... 255 255 255]\n",
        "\n",
        "     ...\n",
        "\n",
        "     [255 255 255 ... 255 255 255]\n",
        "\n",
        "     [255 255 255 ... 255 255 255]\n",
        "\n",
        "     [255 255 255 ... 255 255 255]]\n",
        "\n",
        "    Observation type: <class 'numpy.ndarray'>\n",
        "\n",
        "    Observation Shape: (84, 84)\n",
        "\n",
        "    Visually, it looks like:\n",
        "    <img src=\"./images/environment_render.png\" width=\"500\" height=\"500\">\n",
        "    \n",
        "\n",
        "4. **Float** - Float in the range [0 - $\\infty$] representing the time elapsed in seconds. \n",
        "\n",
        "#### ENVIRONMENT ACTIONS:\n",
        "\n",
        "Our implementation of the environment provides you with three different types of actions:\n",
        "\n",
        "1. **Discrete** - Integer in the range [0 - 3] representing the four actions possible in the environment as follows: 0 - Right 1 - Left 2 - Up 3 - Down.\n",
        "\n",
        "2. **Multi-Discrete** - Array of length four where each element takes binary values 0 or 1. Array elements represent if we take a particular action. Array element with index 0 corresponds to the right action, index 1 corresponds to the left action, index 2 corresponds to the up action, and index 3 corresponds to the down action. E.g., \n",
        "   action = [1, 0, 0, 0] would result in the agent moving right.\n",
        "   action = [1, 0, 1, 0] would result in the agent moving right and up.\n",
        "   action = [0, 1, 0, 1] would result in the agent moving left and down.\n",
        "\n",
        "3. **Continuous** - Float in the range [-1, 1] determining whether the agent will go left, right, up, or down as follows:\n",
        "\n",
        "    if -1 <= action <= -0.5:\n",
        "        Go Right.\n",
        "    elif -0.5 < action <= 0:\n",
        "        Go Left.\n",
        "    elif 0 < action <= 0.5:\n",
        "        Go Up.\n",
        "    elif 0.5 < action <= 1:\n",
        "        Go Down.\n",
        "        \n",
        "### YOUR TASK IS TO USE A NEURAL NETWORK TO WORK WITH ALL FOUR TYPES OF OBSERVATIONS AND ALL THREE TYPES OF  ACTIONS."
      ]
    },
    {
      "cell_type": "markdown",
      "id": "a6deebbb",
      "metadata": {
        "id": "a6deebbb"
      },
      "source": [
        "<img src=\"./images/wumpus_world_environment.jpg\" width=\"600\" height=\"600\">"
      ]
    },
    {
      "cell_type": "markdown",
      "id": "f2f11e24",
      "metadata": {
        "id": "f2f11e24"
      },
      "source": [
        "# START COMPLETING YOUR ASSIGNMENT HERE"
      ]
    },
    {
      "cell_type": "markdown",
      "id": "729a8768",
      "metadata": {
        "id": "729a8768"
      },
      "source": [
        "## Observation Type - Integer, Action Type - Discrete\n",
        "\n",
        "The part of the assignment requires you to create a sequential dense neural network with 1 hidden layer having 64 neurons and the output layer having 4 neurons. The input to the neural network is an integer (refer to environment observations type 1). The output of the neural network is an array represeting the Q-values from which you will choose an action (refer to environment actions type 1)."
      ]
    },
    {
      "cell_type": "markdown",
      "id": "c596cb95",
      "metadata": {
        "id": "c596cb95"
      },
      "source": [
        "The following figure shows the network structure you will have to use:\n",
        "\n",
        "<img src=\"./images/neural_network_structures/neural_network_1_64_4.png\">"
      ]
    },
    {
      "cell_type": "code",
      "source": [
        "!rm -rf __MACOSX/"
      ],
      "metadata": {
        "id": "4s_Sy4h9tGBq"
      },
      "id": "4s_Sy4h9tGBq",
      "execution_count": 5,
      "outputs": []
    },
    {
      "cell_type": "code",
      "execution_count": 6,
      "id": "7b1f4da4",
      "metadata": {
        "id": "7b1f4da4"
      },
      "outputs": [],
      "source": [
        "\"\"\"TO DO: Create a neural network, pass it the observation from the environment\n",
        "and get the predicted Q-values for the four actions. Print the observation and the Q-values.\"\"\"\n",
        "import tensorflow.keras as tfk\n",
        "import tensorflow as tf\n",
        "import numpy as np\n",
        "environment = WumpusWorldEnvironment(observation_type='integer', action_type='discrete')\n",
        "observation = environment.reset()\n",
        "\n",
        "# BEGIN_YOUR_CODE\n",
        "model = tfk.Sequential([\n",
        "    tfk.layers.Input(1),\n",
        "    tfk.layers.Dense(64,activation='relu'),\n",
        "    tfk.layers.Dense(4,activation='linear')\n",
        "])\n",
        "\n",
        "# END_YOUR_CODE\n",
        "model.compile()\n"
      ]
    },
    {
      "cell_type": "code",
      "source": [
        "done = False\n",
        "obs = observation\n",
        "q_table = model.predict([obs])\n",
        "z = np.argmax(q_table)\n",
        "observation, _ , done ,info = environment.step(z)\n",
        "print(obs, q_table)\n",
        "  \n",
        "\n"
      ],
      "metadata": {
        "colab": {
          "base_uri": "https://localhost:8080/"
        },
        "id": "J-DI9paNfULt",
        "outputId": "140b1cc6-89e7-43ee-8a62-0faf5a816876"
      },
      "id": "J-DI9paNfULt",
      "execution_count": 7,
      "outputs": [
        {
          "output_type": "stream",
          "name": "stdout",
          "text": [
            "1/1 [==============================] - 0s 320ms/step\n",
            "0 [[0. 0. 0. 0.]]\n"
          ]
        }
      ]
    },
    {
      "cell_type": "code",
      "source": [],
      "metadata": {
        "id": "B4snHxGHjBlI"
      },
      "id": "B4snHxGHjBlI",
      "execution_count": 7,
      "outputs": []
    },
    {
      "cell_type": "markdown",
      "id": "2bb8286a",
      "metadata": {
        "id": "2bb8286a"
      },
      "source": []
    },
    {
      "cell_type": "markdown",
      "id": "b2b233bb",
      "metadata": {
        "id": "b2b233bb"
      },
      "source": [
        "## Observation Type - Vector (2.1), Action Type - Discrete\n",
        "\n",
        "The part of the assignment requires you to create a sequential dense neural network with 1 hidden layer having 64 neurons and the output layer having 4 neurons. The input to the neural network is a vector of length 2 (refer to environment observations type 2.1). The output of the neural network is an array represeting the Q-values from which you will choose an action (refer to environment actions type 1)."
      ]
    },
    {
      "cell_type": "markdown",
      "id": "0e9c4873",
      "metadata": {
        "id": "0e9c4873"
      },
      "source": [
        "The following figure shows the network structure you will have to use:\n",
        "\n",
        "<img src=\"./images/neural_network_structures/neural_network_2_64_4.png\">"
      ]
    },
    {
      "cell_type": "code",
      "source": [
        "obs"
      ],
      "metadata": {
        "colab": {
          "base_uri": "https://localhost:8080/"
        },
        "id": "bT9410PRvisP",
        "outputId": "356ea179-cfc8-4e23-f2ef-434eaf3b65dd"
      },
      "id": "bT9410PRvisP",
      "execution_count": 8,
      "outputs": [
        {
          "output_type": "execute_result",
          "data": {
            "text/plain": [
              "0"
            ]
          },
          "metadata": {},
          "execution_count": 8
        }
      ]
    },
    {
      "cell_type": "code",
      "execution_count": 10,
      "id": "10d985b5",
      "metadata": {
        "id": "10d985b5",
        "colab": {
          "base_uri": "https://localhost:8080/"
        },
        "outputId": "2348f428-97e0-4634-a61d-1736bce3e97d"
      },
      "outputs": [
        {
          "output_type": "stream",
          "name": "stdout",
          "text": [
            "1/1 [==============================] - 0s 54ms/step\n",
            "[[0 0]] [[0. 0. 0. 0.]]\n"
          ]
        }
      ],
      "source": [
        "\"\"\"TO DO: Create a neural network, pass it the observation from the environment\n",
        "and get the predicted Q-values for the four actions. Print the observation and the Q-values.\"\"\"\n",
        "\n",
        "environment = WumpusWorldEnvironment(observation_type='vector', action_type='discrete')\n",
        "observation = environment.reset()\n",
        "\n",
        "# BEGIN_YOUR_CODE\n",
        "model = tfk.Sequential([\n",
        "    tfk.layers.Input(shape=(2)),\n",
        "    tfk.layers.Dense(64,activation='relu'),\n",
        "    tfk.layers.Dense(4,activation='linear')\n",
        "])\n",
        "\n",
        "model.compile()\n",
        "obs = observation.reshape((1,2))\n",
        "q_table = model.predict(obs)\n",
        "print(obs, q_table)\n",
        "\n",
        "# END_YOUR_CODE"
      ]
    },
    {
      "cell_type": "markdown",
      "id": "a8957b9f",
      "metadata": {
        "id": "a8957b9f"
      },
      "source": [
        "## Observation Type - Vector (2.2), Action Type - Discrete\n",
        "\n",
        "The part of the assignment requires you to create a sequential dense neural network with 1 hidden layer having 64 neurons and the output layer having 4 neurons. The input to the neural network is a vector of length 36 (refer to environment observations type 2.2). The output of the neural network is an array represeting the Q-values from which you will choose an action (refer to environment actions type 1).\n",
        "\n",
        "**HINT:** Use the integer observation and convert it to a one-hot encoded vector."
      ]
    },
    {
      "cell_type": "markdown",
      "id": "470cf5f8",
      "metadata": {
        "id": "470cf5f8"
      },
      "source": [
        "The following figure shows the network structure you will have to use:\n",
        "\n",
        "<img src=\"./images/neural_network_structures/neural_network_36_64_4.png\">"
      ]
    },
    {
      "cell_type": "code",
      "execution_count": 11,
      "id": "ae05b09e",
      "metadata": {
        "id": "ae05b09e",
        "colab": {
          "base_uri": "https://localhost:8080/"
        },
        "outputId": "f8e4e3d0-0917-44d9-f835-8128a4a556bc"
      },
      "outputs": [
        {
          "output_type": "stream",
          "name": "stdout",
          "text": [
            "0\n",
            "1/1 [==============================] - 0s 59ms/step\n",
            "[[1 0 0 0 0 0 0 0 0 0 0 0 0 0 0 0 0 0 0 0 0 0 0 0 0 0 0 0 0 0 0 0 0 0 0 0]] [[-0.06991051 -0.09714556  0.07881412  0.01357894]]\n"
          ]
        }
      ],
      "source": [
        "\"\"\"TO DO: Create a neural network, pass it the observation from the environment\n",
        "and get the predicted Q-values for the four actions. Print the observation and the Q-values.\"\"\"\n",
        "\n",
        "environment = WumpusWorldEnvironment(observation_type='integer', action_type='discrete')\n",
        "observation = environment.reset()\n",
        "\n",
        "# BEGIN_YOUR_CODE\n",
        "model = tfk.Sequential([\n",
        "    tfk.layers.Input(shape=(36)),\n",
        "    tfk.layers.Dense(64,activation='relu'),\n",
        "    tfk.layers.Dense(4,activation='linear')\n",
        "])\n",
        "\n",
        "model.compile()\n",
        "\n",
        "print(observation)\n",
        "rand = [0]*36\n",
        "rand[observation] = 1\n",
        "observation = np.array(rand)\n",
        "obs = observation.reshape((1,36))\n",
        "q_table = model.predict(obs)\n",
        "print(obs, q_table)\n",
        "\n",
        "# END_YOUR_CODE"
      ]
    },
    {
      "cell_type": "markdown",
      "id": "ce19c97b",
      "metadata": {
        "id": "ce19c97b"
      },
      "source": [
        "## Observation Type - Image, Action Type - Discrete\n",
        "\n",
        "The part of the assignment requires you to create a convolutional neural network with one convolutional layer having 128 filters of size 3 x 3, one hidden layer having 64 neurons, and the output layer having 4 neurons. The input to the neural network is an image of size 84 * 84 (refer to environment observations type 3). The output of the neural network is an array represeting the Q-values from which you will choose an action (refer to environment actions type 1)."
      ]
    },
    {
      "cell_type": "markdown",
      "id": "df3d739c",
      "metadata": {
        "id": "df3d739c"
      },
      "source": [
        "The following figure shows the network structure you will have to use:\n",
        "\n",
        "<img src=\"./images/neural_network_structures/convolutional_neural_network_84x84_128_64_4.png\">"
      ]
    },
    {
      "cell_type": "code",
      "execution_count": 12,
      "id": "2044da09",
      "metadata": {
        "id": "2044da09"
      },
      "outputs": [],
      "source": [
        "\"\"\"TO DO: Create a neural network, pass it the observation from the environment\n",
        "and get the predicted Q-values for the four actions. Print the observation and the Q-values.\"\"\"\n",
        "\n",
        "environment = WumpusWorldEnvironment(observation_type='image', action_type='discrete')\n",
        "observation = environment.reset()\n",
        "\n",
        "# BEGIN_YOUR_CODE\n",
        "model = tfk.Sequential([\n",
        "    tfk.layers.Conv2D(128, kernel_size=(3,3), input_shape=(84,84,1)),\n",
        "    tfk.layers.Flatten(),\n",
        "    tfk.layers.Dense(64,activation='relu'),\n",
        "    tfk.layers.Dense(4,activation='linear')\n",
        "])\n",
        "\n",
        "model.compile()\n",
        "\n",
        "# END_YOUR_CODE"
      ]
    },
    {
      "cell_type": "code",
      "source": [
        "from pprint import pprint\n",
        "print(observation.shape)\n",
        "obs = observation.reshape((1,84,84,1))\n",
        "q_table = model.predict(obs)\n",
        "pprint(observation)\n",
        "pprint(q_table)"
      ],
      "metadata": {
        "colab": {
          "base_uri": "https://localhost:8080/"
        },
        "id": "7REgqAy7zWFL",
        "outputId": "92188b59-5191-4c4c-d8c4-38378087b960"
      },
      "id": "7REgqAy7zWFL",
      "execution_count": 13,
      "outputs": [
        {
          "output_type": "stream",
          "name": "stdout",
          "text": [
            "(84, 84)\n",
            "1/1 [==============================] - 0s 179ms/step\n",
            "array([[255, 255, 255, ..., 255, 255, 255],\n",
            "       [255, 255, 255, ..., 255, 255, 255],\n",
            "       [255, 255, 255, ..., 255, 255, 255],\n",
            "       ...,\n",
            "       [255, 255, 255, ..., 255, 255, 255],\n",
            "       [255, 255, 255, ..., 255, 255, 255],\n",
            "       [255, 255, 255, ..., 255, 255, 255]], dtype=uint8)\n",
            "array([[-109.01348 ,  -63.412777,   59.522778,  103.8623  ]],\n",
            "      dtype=float32)\n"
          ]
        }
      ]
    },
    {
      "cell_type": "markdown",
      "id": "64be04fd",
      "metadata": {
        "id": "64be04fd"
      },
      "source": [
        "## Observation Type - Float, Action Type - Discrete\n",
        "\n",
        "The part of the assignment requires you to create a sequential dense neural network with 1 hidden layer having 64 neurons and the output layer having 4 neurons. The input to the neural network is a float (refer to environment observations type 4). The output of the neural network is an array represeting the Q-values from which you will choose an action (refer to environment actions type 1)."
      ]
    },
    {
      "cell_type": "markdown",
      "id": "b7ed49e0",
      "metadata": {
        "id": "b7ed49e0"
      },
      "source": [
        "The following figure shows the network structure you will have to use:\n",
        "\n",
        "<img src=\"./images/neural_network_structures/neural_network_1_64_4.png\">"
      ]
    },
    {
      "cell_type": "code",
      "execution_count": 14,
      "id": "ea0e4aa6",
      "metadata": {
        "id": "ea0e4aa6",
        "colab": {
          "base_uri": "https://localhost:8080/"
        },
        "outputId": "483a7552-c1fd-4e72-8a8b-07ff2681177c"
      },
      "outputs": [
        {
          "output_type": "stream",
          "name": "stderr",
          "text": [
            "WARNING:tensorflow:5 out of the last 5 calls to <function Model.make_predict_function.<locals>.predict_function at 0x7f9960200940> triggered tf.function retracing. Tracing is expensive and the excessive number of tracings could be due to (1) creating @tf.function repeatedly in a loop, (2) passing tensors with different shapes, (3) passing Python objects instead of tensors. For (1), please define your @tf.function outside of the loop. For (2), @tf.function has reduce_retracing=True option that can avoid unnecessary retracing. For (3), please refer to https://www.tensorflow.org/guide/function#controlling_retracing and https://www.tensorflow.org/api_docs/python/tf/function for  more details.\n"
          ]
        },
        {
          "output_type": "stream",
          "name": "stdout",
          "text": [
            "1/1 [==============================] - 0s 73ms/step\n",
            "0.0001125335693359375 [[ 1.0426677e-05 -4.0380364e-06 -4.7218495e-05  1.2274836e-05]]\n"
          ]
        }
      ],
      "source": [
        "\"\"\"TO DO: Create a neural network, pass it the observation from the environment\n",
        "and get the predicted Q-values for the four actions. Print the observation and the Q-values.\"\"\"\n",
        "\n",
        "environment = WumpusWorldEnvironment(observation_type='float', action_type='discrete')\n",
        "observation = environment.reset()\n",
        "\n",
        "# BEGIN_YOUR_CODE\n",
        "model = tfk.Sequential([\n",
        "    tfk.layers.Input(1),\n",
        "    tfk.layers.Dense(64,activation='relu'),\n",
        "    tfk.layers.Dense(4,activation='linear')\n",
        "])\n",
        "\n",
        "model.compile()\n",
        "\n",
        "obs = observation\n",
        "q_table = model.predict([obs])\n",
        "print(obs, q_table)\n",
        "\n",
        "# END_YOUR_CODE"
      ]
    },
    {
      "cell_type": "markdown",
      "id": "27040465",
      "metadata": {
        "id": "27040465"
      },
      "source": [
        "## Observation Type - Vector (2.2), Action Type - Multi-Discrete\n",
        "\n",
        "The part of the assignment requires you to create a sequential dense neural network with 1 hidden layer having 64 neurons and the output layer having 4 neurons. The input to the neural network is a vector of length 36 (refer to environment observations type 2.2). The output of the neural network is an array representing the probability of choosing the actions. (If the value of the array element is >=0.5 you will perform the action.) (refer to environment actions type 2).\n",
        "\n",
        "**HINT:** Use the integer observation and convert it to a one-hot encoded vector."
      ]
    },
    {
      "cell_type": "markdown",
      "id": "8fe64de9",
      "metadata": {
        "id": "8fe64de9"
      },
      "source": [
        "The following figure shows the network structure you will have to use:\n",
        "\n",
        "<img src=\"./images/neural_network_structures/neural_network_36_64_4_sigmoid.png\">"
      ]
    },
    {
      "cell_type": "code",
      "execution_count": 15,
      "id": "00ea3736",
      "metadata": {
        "id": "00ea3736",
        "colab": {
          "base_uri": "https://localhost:8080/"
        },
        "outputId": "030c2d0c-f624-4d55-f2c2-c0b2c366c57e"
      },
      "outputs": [
        {
          "output_type": "stream",
          "name": "stderr",
          "text": [
            "WARNING:tensorflow:6 out of the last 6 calls to <function Model.make_predict_function.<locals>.predict_function at 0x7f996022fee0> triggered tf.function retracing. Tracing is expensive and the excessive number of tracings could be due to (1) creating @tf.function repeatedly in a loop, (2) passing tensors with different shapes, (3) passing Python objects instead of tensors. For (1), please define your @tf.function outside of the loop. For (2), @tf.function has reduce_retracing=True option that can avoid unnecessary retracing. For (3), please refer to https://www.tensorflow.org/guide/function#controlling_retracing and https://www.tensorflow.org/api_docs/python/tf/function for  more details.\n"
          ]
        },
        {
          "output_type": "stream",
          "name": "stdout",
          "text": [
            "0\n",
            "1/1 [==============================] - 0s 62ms/step\n",
            "[[1 0 0 0 0 0 0 0 0 0 0 0 0 0 0 0 0 0 0 0 0 0 0 0 0 0 0 0 0 0 0 0 0 0 0 0]] [[0.45909357 0.53417385 0.5548418  0.55524266]]\n"
          ]
        }
      ],
      "source": [
        "\"\"\"TO DO: Create a neural network, pass it the observation from the environment\n",
        "and get the predicted action probabilities for the four actions. Print the observation and the action probabilities.\"\"\"\n",
        "\n",
        "environment = WumpusWorldEnvironment(observation_type='integer', action_type='multi_discrete')\n",
        "observation = environment.reset()\n",
        "\n",
        "# BEGIN_YOUR_CODE\n",
        "model = tfk.Sequential([\n",
        "    tfk.layers.Input(shape=(36)),\n",
        "    tfk.layers.Dense(64,activation='relu'),\n",
        "    tfk.layers.Dense(4,activation='sigmoid')\n",
        "])\n",
        "\n",
        "model.compile()\n",
        "\n",
        "print(observation)\n",
        "rand = [0]*36\n",
        "rand[observation] = 1\n",
        "observation = np.array(rand)\n",
        "obs = observation.reshape((1,36))\n",
        "q_table = model.predict(obs)\n",
        "print(obs, q_table)\n",
        "# END_YOUR_CODE"
      ]
    },
    {
      "cell_type": "markdown",
      "id": "082f05b0",
      "metadata": {
        "id": "082f05b0"
      },
      "source": [
        "## Observation Type - Vector (2.2), Action Type - Continuous\n",
        "\n",
        "The part of the assignment requires you to create a sequential dense neural network with 1 hidden layer having 64 neurons and the output layer having 1 neuron. The input to the neural network is a vector of length 36 (refer to environment observations type 2.2). The output of the neural network is an float in the range [-1, 1] determining the action which will be taken. (refer to environment actions type 3).\n",
        "\n",
        "**HINT:** Use the integer observation and convert it to a one-hot encoded vector and use the TanH activation function to get the output in the range [-1, 1]."
      ]
    },
    {
      "cell_type": "markdown",
      "id": "d8796988",
      "metadata": {
        "id": "d8796988"
      },
      "source": [
        "The following figure shows the network structure you will have to use:\n",
        "\n",
        "<img src=\"./images/neural_network_structures/neural_network_36_64_1.png\">"
      ]
    },
    {
      "cell_type": "code",
      "execution_count": 17,
      "id": "b98555f1",
      "metadata": {
        "id": "b98555f1",
        "colab": {
          "base_uri": "https://localhost:8080/"
        },
        "outputId": "eddf07ca-445e-4421-9a26-9b3a24c3a965"
      },
      "outputs": [
        {
          "output_type": "stream",
          "name": "stdout",
          "text": [
            "0\n",
            "1/1 [==============================] - 0s 82ms/step\n"
          ]
        },
        {
          "output_type": "stream",
          "name": "stderr",
          "text": [
            "/usr/local/lib/python3.9/dist-packages/gym/spaces/box.py:128: UserWarning: \u001b[33mWARN: Box bound precision lowered by casting to float32\u001b[0m\n",
            "  logger.warn(f\"Box bound precision lowered by casting to {self.dtype}\")\n"
          ]
        },
        {
          "output_type": "stream",
          "name": "stdout",
          "text": [
            "[[1 0 0 0 0 0 0 0 0 0 0 0 0 0 0 0 0 0 0 0 0 0 0 0 0 0 0 0 0 0 0 0 0 0 0 0]] [[0.00140826]]\n"
          ]
        }
      ],
      "source": [
        "\"\"\"TO DO: Create a neural network, pass it the observation from the environment\n",
        "and get the predicted action. Print the observation and the predicted action.\"\"\"\n",
        "\n",
        "environment = WumpusWorldEnvironment(observation_type='integer', action_type='continuous')\n",
        "observation = environment.reset()\n",
        "\n",
        "# BEGIN_YOUR_CODE\n",
        "model = tfk.Sequential([\n",
        "    tfk.layers.Input(shape=(36)),\n",
        "    tfk.layers.Dense(64,activation='relu'),\n",
        "    tfk.layers.Dense(1,activation='tanh')\n",
        "])\n",
        "\n",
        "model.compile()\n",
        "\n",
        "print(observation)\n",
        "rand = [0]*36\n",
        "rand[observation] = 1\n",
        "observation = np.array(rand)\n",
        "obs = observation.reshape((1,36))\n",
        "predicted_value = model.predict(obs)\n",
        "print(obs, predicted_value)\n",
        "\n",
        "# END_YOUR_CODE"
      ]
    },
    {
      "cell_type": "code",
      "source": [],
      "metadata": {
        "id": "y_HurkSA3XX1"
      },
      "id": "y_HurkSA3XX1",
      "execution_count": 16,
      "outputs": []
    }
  ],
  "metadata": {
    "kernelspec": {
      "display_name": "Python 3 (ipykernel)",
      "language": "python",
      "name": "python3"
    },
    "language_info": {
      "codemirror_mode": {
        "name": "ipython",
        "version": 3
      },
      "file_extension": ".py",
      "mimetype": "text/x-python",
      "name": "python",
      "nbconvert_exporter": "python",
      "pygments_lexer": "ipython3",
      "version": "3.10.1"
    },
    "colab": {
      "provenance": []
    }
  },
  "nbformat": 4,
  "nbformat_minor": 5
}