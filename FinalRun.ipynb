{
 "cells": [
  {
   "cell_type": "code",
   "execution_count": 1,
   "id": "313f1ed5",
   "metadata": {},
   "outputs": [],
   "source": [
    "import torch\n",
    "import torch.nn as nn\n",
    "import torch.nn.functional as F\n",
    "import torch.optim as optim\n",
    "import gym\n",
    "from dqn import Options,DQN,DuelingDQN,Hyperparams,EnvInfo\n",
    "from gridEnvironment import GridEnvironment\n",
    "\n",
    "\n",
    "device = torch.device(\"cuda\" if torch.cuda.is_available() else \"cpu\")"
   ]
  },
  {
   "cell_type": "markdown",
   "id": "1a5b3c18",
   "metadata": {},
   "source": [
    "## DQN - Cartpole"
   ]
  },
  {
   "cell_type": "code",
   "execution_count": 2,
   "id": "b767cb25",
   "metadata": {},
   "outputs": [],
   "source": [
    "class NeuralNetworkForCartPole(nn.Module):\n",
    "    def __init__(self, observation_space, action_space, learningRate):\n",
    "        super().__init__()\n",
    "        self.layer_1 = nn.Linear(observation_space, 128)\n",
    "        self.layer_2 = nn.Linear(128, 128)\n",
    "        self.layer_3 = nn.Linear(128, action_space)\n",
    "        self.optimizer = optim.Adam(self.parameters(), lr=learningRate)\n",
    "        self.loss = nn.MSELoss()\n",
    "        self.to(device)\n",
    "\n",
    "    def forward(self, x):\n",
    "        x = F.relu(self.layer_1(x))\n",
    "        x = F.relu(self.layer_2(x))\n",
    "        return self.layer_3(x)\n",
    "\n",
    "dqnCartPole = DQN(\n",
    "    envInfo=EnvInfo(env=gym.make('CartPole-v1')),\n",
    "    hyperparams=Hyperparams(\n",
    "        epsilon=0.99,\n",
    "        epsilonMin=0.001,\n",
    "        epsilonDecay=10000,\n",
    "        memorySize=10000,\n",
    "        learningRate=1e-4,\n",
    "        batchSize=64,\n",
    "        discountFactor=0.99,\n",
    "        targetNetworkUpdateFrequency=20,\n",
    "        episodes=600\n",
    "    ),\n",
    "    nnModel=NeuralNetworkForCartPole,\n",
    "    options = Options(\n",
    "        resultsPath='./results',\n",
    "        filePrefix='CartPole_DQN',\n",
    "        showLiveResults=True,\n",
    "        logResults = False,\n",
    "        saveModels = True\n",
    "    )\n",
    ")\n",
    "\n",
    "# dqnCartPole.train()"
   ]
  },
  {
   "cell_type": "markdown",
   "id": "2c6eb64f",
   "metadata": {},
   "source": [
    "## Saving Results of DQN Cartpole"
   ]
  },
  {
   "cell_type": "code",
   "execution_count": 3,
   "id": "86b5070b",
   "metadata": {},
   "outputs": [],
   "source": [
    "# dqnCartPole.saveWeights()\n",
    "# dqnCartPole.saveModels()\n",
    "# dqnCartPole.saveResults()"
   ]
  },
  {
   "cell_type": "markdown",
   "id": "8903a782",
   "metadata": {},
   "source": [
    "## DQN Grid Environment"
   ]
  },
  {
   "cell_type": "code",
   "execution_count": 4,
   "id": "0e402cae",
   "metadata": {},
   "outputs": [],
   "source": [
    "class NeuralNetworkForGridEnv(nn.Module):\n",
    "    def __init__(self, observation_space, action_space, learningRate):\n",
    "        super().__init__()\n",
    "        self.layer_1 = nn.Linear(observation_space, 128)\n",
    "        self.layer_2 = nn.Linear(128, 128)\n",
    "        self.layer_3 = nn.Linear(128, action_space)\n",
    "        self.optimizer = optim.Adam(self.parameters(), lr=learningRate)\n",
    "        self.loss = nn.MSELoss()\n",
    "        self.to(device)\n",
    "\n",
    "    def forward(self, x):\n",
    "        x = F.relu(self.layer_1(x))\n",
    "        x = F.relu(self.layer_2(x))\n",
    "        return self.layer_3(x)\n",
    "\n",
    "gridEnv = GridEnvironment(env=\"Deterministic\", max_timesteps=100)\n",
    "    \n",
    "dqnGridEnv = DQN(\n",
    "    envInfo=EnvInfo(\n",
    "        env=gridEnv,\n",
    "        observation_space = gridEnv.observation_space.n,\n",
    "        action_space = gridEnv.action_space.n\n",
    "    ),\n",
    "    hyperparams=Hyperparams(\n",
    "        epsilon=0.9,\n",
    "        epsilonMin=0.001,\n",
    "        epsilonDecay=1000,\n",
    "        memorySize=1000,\n",
    "        learningRate=0.001,\n",
    "        batchSize=64,\n",
    "        discountFactor=0.99,\n",
    "        targetNetworkUpdateFrequency=20,\n",
    "        episodes=300\n",
    "    ),\n",
    "    nnModel=NeuralNetworkForGridEnv,\n",
    "    options = Options(\n",
    "        resultsPath='./results',\n",
    "        filePrefix='GridEnv_DQN',\n",
    "        showLiveResults=True,\n",
    "        logResults = False,\n",
    "        saveModels = True\n",
    "    )\n",
    ")\n",
    "\n",
    "# dqnGridEnv.train()"
   ]
  },
  {
   "cell_type": "markdown",
   "id": "1701a146",
   "metadata": {},
   "source": [
    "## Saving DQN Grid Environment"
   ]
  },
  {
   "cell_type": "code",
   "execution_count": 5,
   "id": "daa0969d",
   "metadata": {},
   "outputs": [],
   "source": [
    "# dqnGridEnv.saveWeights()\n",
    "# dqnGridEnv.saveModels()\n",
    "# dqnGridEnv.saveResults()"
   ]
  },
  {
   "cell_type": "code",
   "execution_count": null,
   "id": "0e702059",
   "metadata": {},
   "outputs": [
    {
     "data": {
      "image/png": "[encoded data removed]",
      "text/plain": [
       "<Figure size 864x720 with 1 Axes>"
      ]
     },
     "metadata": {},
     "output_type": "display_data"
    }
   ],
   "source": [
    "class NeuralNetworkForLunarLander(nn.Module):\n",
    "    def __init__(self, observation_space, action_space, learningRate):\n",
    "        super().__init__()\n",
    "        self.layer_1 = nn.Linear(observation_space, 128)\n",
    "        self.layer_2 = nn.Linear(128, 128)\n",
    "        self.layer_3 = nn.Linear(128, action_space)\n",
    "        self.optimizer = optim.Adam(self.parameters(), lr=learningRate)\n",
    "        self.loss = nn.MSELoss()\n",
    "        self.to(device)\n",
    "\n",
    "    def forward(self, x):\n",
    "        x = F.relu(self.layer_1(x))\n",
    "        x = F.relu(self.layer_2(x))\n",
    "        return self.layer_3(x)\n",
    "\n",
    "dqnLunarLander = DQN(\n",
    "    envInfo=EnvInfo(env=gym.make(\n",
    "        \"LunarLander-v2\",\n",
    "        continuous = False,\n",
    "        gravity = -10.0,\n",
    "        enable_wind = False,\n",
    "        wind_power = 15.0,\n",
    "        turbulence_power = 1.5\n",
    "    )),\n",
    "    hyperparams=Hyperparams(\n",
    "        epsilon=0.99,\n",
    "        epsilonMin=0.001,\n",
    "        epsilonDecay=1000,\n",
    "        memorySize=10000,\n",
    "        learningRate=3e-4,\n",
    "        batchSize=32,\n",
    "        discountFactor=0.99,\n",
    "        targetNetworkUpdateFrequency=300,\n",
    "        episodes=1000\n",
    "    ),\n",
    "    nnModel=NeuralNetworkForCartPole,\n",
    "    options = Options(\n",
    "        resultsPath='./results',\n",
    "        filePrefix='LunarLander_DQN',\n",
    "        showLiveResults=True,\n",
    "        logResults = False,\n",
    "        saveModels = True\n",
    "    )\n",
    ")\n",
    "\n",
    "dqnLunarLander.train()"
   ]
  },
  {
   "cell_type": "code",
   "execution_count": null,
   "id": "7a153940",
   "metadata": {},
   "outputs": [],
   "source": [
    "# dqnLunarLander.saveModels()\n",
    "# dqnLunarLander.saveWeights()\n",
    "# dqnLunarLander.saveResults()"
   ]
  },
  {
   "cell_type": "code",
   "execution_count": null,
   "id": "473a9e74",
   "metadata": {},
   "outputs": [],
   "source": []
  }
 ],
 "metadata": {
  "kernelspec": {
   "display_name": "Python 3",
   "language": "python",
   "name": "python3"
  },
  "language_info": {
   "codemirror_mode": {
    "name": "ipython",
    "version": 3
   },
   "file_extension": ".py",
   "mimetype": "text/x-python",
   "name": "python",
   "nbconvert_exporter": "python",
   "pygments_lexer": "ipython3",
   "version": "3.8.16"
  }
 },
 "nbformat": 4,
 "nbformat_minor": 5
}
